{
 "cells": [
  {
   "cell_type": "markdown",
   "id": "165166dd",
   "metadata": {},
   "source": [
    "# DS Automation Assignment"
   ]
  },
  {
   "cell_type": "markdown",
   "id": "ed5997ee-976f-4d22-8f15-05977f5be64a",
   "metadata": {},
   "source": [
    "Lacey Martin"
   ]
  },
  {
   "cell_type": "markdown",
   "id": "c195af74",
   "metadata": {},
   "source": [
    "Using our prepared churn data from week 2:\n",
    "- use pycaret to find an ML algorithm that performs best on the data\n",
    "    - Choose a metric you think is best to use for finding the best model; by default, it is accuracy but it could be AUC, precision, recall, etc. The week 3 FTE has some information on these different metrics.\n",
    "- save the model to disk\n",
    "- create a Python script/file/module with a function that takes a pandas dataframe as an input and returns the probability of churn for each row in the dataframe\n",
    "    - your Python file/function should print out the predictions for new data (new_churn_data.csv)\n",
    "    - the true values for the new data are [1, 0, 0, 1, 0] if you're interested\n",
    "- test your Python module and function with the new data, new_churn_data.csv\n",
    "- write a short summary of the process and results at the end of this notebook\n",
    "- upload this Jupyter Notebook and Python file to a Github repository, and turn in a link to the repository in the week 5 assignment dropbox\n",
    "\n",
    "*Optional* challenges:\n",
    "- return the probability of churn for each new prediction, and the percentile where that prediction is in the distribution of probability predictions from the training dataset (e.g. a high probability of churn like 0.78 might be at the 90th percentile)\n",
    "- use other autoML packages, such as TPOT, H2O, MLBox, etc, and compare performance and features with pycaret\n",
    "- create a class in your Python module to hold the functions that you created\n",
    "- accept user input to specify a file using a tool such as Python's `input()` function, the `click` package for command-line arguments, or a GUI\n",
    "- Use the unmodified churn data (new_unmodified_churn_data.csv) in your Python script. This will require adding the same preprocessing steps from week 2 since this data is like the original unmodified dataset from week 1."
   ]
  },
  {
   "cell_type": "code",
   "execution_count": 3,
   "id": "b391e9f2-dc34-433a-b644-b9d6434c8a8b",
   "metadata": {},
   "outputs": [
    {
     "data": {
      "text/html": [
       "<div>\n",
       "<style scoped>\n",
       "    .dataframe tbody tr th:only-of-type {\n",
       "        vertical-align: middle;\n",
       "    }\n",
       "\n",
       "    .dataframe tbody tr th {\n",
       "        vertical-align: top;\n",
       "    }\n",
       "\n",
       "    .dataframe thead th {\n",
       "        text-align: right;\n",
       "    }\n",
       "</style>\n",
       "<table border=\"1\" class=\"dataframe\">\n",
       "  <thead>\n",
       "    <tr style=\"text-align: right;\">\n",
       "      <th></th>\n",
       "      <th>tenure</th>\n",
       "      <th>PhoneService</th>\n",
       "      <th>Contract</th>\n",
       "      <th>PaymentMethod</th>\n",
       "      <th>MonthlyCharges</th>\n",
       "      <th>TotalCharges</th>\n",
       "      <th>Churn</th>\n",
       "      <th>charge_per_tenure</th>\n",
       "    </tr>\n",
       "    <tr>\n",
       "      <th>customerID</th>\n",
       "      <th></th>\n",
       "      <th></th>\n",
       "      <th></th>\n",
       "      <th></th>\n",
       "      <th></th>\n",
       "      <th></th>\n",
       "      <th></th>\n",
       "      <th></th>\n",
       "    </tr>\n",
       "  </thead>\n",
       "  <tbody>\n",
       "    <tr>\n",
       "      <th>7590-VHVEG</th>\n",
       "      <td>1.0</td>\n",
       "      <td>0</td>\n",
       "      <td>0</td>\n",
       "      <td>3</td>\n",
       "      <td>29.85</td>\n",
       "      <td>29.85</td>\n",
       "      <td>0</td>\n",
       "      <td>29.850000</td>\n",
       "    </tr>\n",
       "    <tr>\n",
       "      <th>5575-GNVDE</th>\n",
       "      <td>34.0</td>\n",
       "      <td>1</td>\n",
       "      <td>1</td>\n",
       "      <td>2</td>\n",
       "      <td>56.95</td>\n",
       "      <td>1889.50</td>\n",
       "      <td>0</td>\n",
       "      <td>55.573529</td>\n",
       "    </tr>\n",
       "    <tr>\n",
       "      <th>3668-QPYBK</th>\n",
       "      <td>2.0</td>\n",
       "      <td>1</td>\n",
       "      <td>0</td>\n",
       "      <td>2</td>\n",
       "      <td>53.85</td>\n",
       "      <td>108.15</td>\n",
       "      <td>1</td>\n",
       "      <td>54.075000</td>\n",
       "    </tr>\n",
       "    <tr>\n",
       "      <th>7795-CFOCW</th>\n",
       "      <td>45.0</td>\n",
       "      <td>0</td>\n",
       "      <td>1</td>\n",
       "      <td>1</td>\n",
       "      <td>42.30</td>\n",
       "      <td>1840.75</td>\n",
       "      <td>0</td>\n",
       "      <td>40.905556</td>\n",
       "    </tr>\n",
       "    <tr>\n",
       "      <th>9237-HQITU</th>\n",
       "      <td>2.0</td>\n",
       "      <td>1</td>\n",
       "      <td>0</td>\n",
       "      <td>3</td>\n",
       "      <td>70.70</td>\n",
       "      <td>151.65</td>\n",
       "      <td>1</td>\n",
       "      <td>75.825000</td>\n",
       "    </tr>\n",
       "    <tr>\n",
       "      <th>9305-CDSKC</th>\n",
       "      <td>8.0</td>\n",
       "      <td>1</td>\n",
       "      <td>0</td>\n",
       "      <td>3</td>\n",
       "      <td>99.65</td>\n",
       "      <td>820.50</td>\n",
       "      <td>1</td>\n",
       "      <td>102.562500</td>\n",
       "    </tr>\n",
       "    <tr>\n",
       "      <th>1452-KIOVK</th>\n",
       "      <td>22.0</td>\n",
       "      <td>1</td>\n",
       "      <td>0</td>\n",
       "      <td>0</td>\n",
       "      <td>89.10</td>\n",
       "      <td>1949.40</td>\n",
       "      <td>0</td>\n",
       "      <td>88.609091</td>\n",
       "    </tr>\n",
       "    <tr>\n",
       "      <th>6713-OKOMC</th>\n",
       "      <td>10.0</td>\n",
       "      <td>0</td>\n",
       "      <td>0</td>\n",
       "      <td>2</td>\n",
       "      <td>29.75</td>\n",
       "      <td>301.90</td>\n",
       "      <td>0</td>\n",
       "      <td>30.190000</td>\n",
       "    </tr>\n",
       "    <tr>\n",
       "      <th>7892-POOKP</th>\n",
       "      <td>28.0</td>\n",
       "      <td>1</td>\n",
       "      <td>0</td>\n",
       "      <td>3</td>\n",
       "      <td>104.80</td>\n",
       "      <td>3046.05</td>\n",
       "      <td>1</td>\n",
       "      <td>108.787500</td>\n",
       "    </tr>\n",
       "    <tr>\n",
       "      <th>6388-TABGU</th>\n",
       "      <td>62.0</td>\n",
       "      <td>1</td>\n",
       "      <td>1</td>\n",
       "      <td>1</td>\n",
       "      <td>56.15</td>\n",
       "      <td>3487.95</td>\n",
       "      <td>0</td>\n",
       "      <td>56.257258</td>\n",
       "    </tr>\n",
       "  </tbody>\n",
       "</table>\n",
       "</div>"
      ],
      "text/plain": [
       "            tenure  PhoneService  Contract  PaymentMethod  MonthlyCharges  \\\n",
       "customerID                                                                  \n",
       "7590-VHVEG     1.0             0         0              3           29.85   \n",
       "5575-GNVDE    34.0             1         1              2           56.95   \n",
       "3668-QPYBK     2.0             1         0              2           53.85   \n",
       "7795-CFOCW    45.0             0         1              1           42.30   \n",
       "9237-HQITU     2.0             1         0              3           70.70   \n",
       "9305-CDSKC     8.0             1         0              3           99.65   \n",
       "1452-KIOVK    22.0             1         0              0           89.10   \n",
       "6713-OKOMC    10.0             0         0              2           29.75   \n",
       "7892-POOKP    28.0             1         0              3          104.80   \n",
       "6388-TABGU    62.0             1         1              1           56.15   \n",
       "\n",
       "            TotalCharges  Churn  charge_per_tenure  \n",
       "customerID                                          \n",
       "7590-VHVEG         29.85      0          29.850000  \n",
       "5575-GNVDE       1889.50      0          55.573529  \n",
       "3668-QPYBK        108.15      1          54.075000  \n",
       "7795-CFOCW       1840.75      0          40.905556  \n",
       "9237-HQITU        151.65      1          75.825000  \n",
       "9305-CDSKC        820.50      1         102.562500  \n",
       "1452-KIOVK       1949.40      0          88.609091  \n",
       "6713-OKOMC        301.90      0          30.190000  \n",
       "7892-POOKP       3046.05      1         108.787500  \n",
       "6388-TABGU       3487.95      0          56.257258  "
      ]
     },
     "execution_count": 3,
     "metadata": {},
     "output_type": "execute_result"
    }
   ],
   "source": [
    "import pandas as pd\n",
    "df = pd.read_csv(r\"C:\\Users\\laceym\\OneDrive - Regis University\\MSDS600\\cleaned_churn_data.csv\", index_col='customerID')\n",
    "df\n",
    "df.head(10)"
   ]
  },
  {
   "cell_type": "code",
   "execution_count": 4,
   "id": "d8b55c4c-ca25-4363-822e-865ed19fdbce",
   "metadata": {},
   "outputs": [
    {
     "name": "stdout",
     "output_type": "stream",
     "text": [
      "Available kernels:\n",
      "  py310      C:\\Users\\laceym\\AppData\\Roaming\\jupyter\\kernels\\py310\n",
      "  python3    C:\\Users\\laceym\\anaconda3\\share\\jupyter\\kernels\\python3\n"
     ]
    },
    {
     "name": "stderr",
     "output_type": "stream",
     "text": [
      "0.00s - Debugger warning: It seems that frozen modules are being used, which may\n",
      "0.00s - make the debugger miss breakpoints. Please pass -Xfrozen_modules=off\n",
      "0.00s - to python to disable frozen modules.\n",
      "0.00s - Note: Debugging will proceed. Set PYDEVD_DISABLE_FILE_VALIDATION=1 to disable this validation.\n"
     ]
    }
   ],
   "source": [
    "!jupyter kernelspec list"
   ]
  },
  {
   "cell_type": "code",
   "execution_count": 5,
   "id": "d0620de7-5809-4836-94e6-f6fb8869f733",
   "metadata": {},
   "outputs": [
    {
     "name": "stdout",
     "output_type": "stream",
     "text": [
      "<class 'pandas.core.frame.DataFrame'>\n",
      "Index: 7043 entries, 7590-VHVEG to 3186-AJIEK\n",
      "Data columns (total 8 columns):\n",
      " #   Column             Non-Null Count  Dtype  \n",
      "---  ------             --------------  -----  \n",
      " 0   tenure             7043 non-null   float64\n",
      " 1   PhoneService       7043 non-null   int64  \n",
      " 2   Contract           7043 non-null   int64  \n",
      " 3   PaymentMethod      7043 non-null   int64  \n",
      " 4   MonthlyCharges     7043 non-null   float64\n",
      " 5   TotalCharges       7043 non-null   float64\n",
      " 6   Churn              7043 non-null   int64  \n",
      " 7   charge_per_tenure  7043 non-null   float64\n",
      "dtypes: float64(4), int64(4)\n",
      "memory usage: 495.2+ KB\n"
     ]
    }
   ],
   "source": [
    "df.info()"
   ]
  },
  {
   "cell_type": "code",
   "execution_count": 6,
   "id": "296c1b93-bc42-4733-93f8-5d38015184ba",
   "metadata": {},
   "outputs": [],
   "source": [
    "from pycaret.classification import ClassificationExperiment #setup, compare_models, predict_model, save_model, load_model"
   ]
  },
  {
   "cell_type": "code",
   "execution_count": 7,
   "id": "4764de66-ea3e-4bd8-a0dd-039e5760d217",
   "metadata": {},
   "outputs": [],
   "source": [
    "automl = ClassificationExperiment() #setup(df, target='Churn')"
   ]
  },
  {
   "cell_type": "code",
   "execution_count": 8,
   "id": "fdddf28f-7d7d-4b57-b5d8-093e88964dca",
   "metadata": {},
   "outputs": [
    {
     "data": {
      "text/html": [
       "<style type=\"text/css\">\n",
       "#T_057aa_row8_col1 {\n",
       "  background-color: lightgreen;\n",
       "}\n",
       "</style>\n",
       "<table id=\"T_057aa\">\n",
       "  <thead>\n",
       "    <tr>\n",
       "      <th class=\"blank level0\" >&nbsp;</th>\n",
       "      <th id=\"T_057aa_level0_col0\" class=\"col_heading level0 col0\" >Description</th>\n",
       "      <th id=\"T_057aa_level0_col1\" class=\"col_heading level0 col1\" >Value</th>\n",
       "    </tr>\n",
       "  </thead>\n",
       "  <tbody>\n",
       "    <tr>\n",
       "      <th id=\"T_057aa_level0_row0\" class=\"row_heading level0 row0\" >0</th>\n",
       "      <td id=\"T_057aa_row0_col0\" class=\"data row0 col0\" >Session id</td>\n",
       "      <td id=\"T_057aa_row0_col1\" class=\"data row0 col1\" >2647</td>\n",
       "    </tr>\n",
       "    <tr>\n",
       "      <th id=\"T_057aa_level0_row1\" class=\"row_heading level0 row1\" >1</th>\n",
       "      <td id=\"T_057aa_row1_col0\" class=\"data row1 col0\" >Target</td>\n",
       "      <td id=\"T_057aa_row1_col1\" class=\"data row1 col1\" >Churn</td>\n",
       "    </tr>\n",
       "    <tr>\n",
       "      <th id=\"T_057aa_level0_row2\" class=\"row_heading level0 row2\" >2</th>\n",
       "      <td id=\"T_057aa_row2_col0\" class=\"data row2 col0\" >Target type</td>\n",
       "      <td id=\"T_057aa_row2_col1\" class=\"data row2 col1\" >Binary</td>\n",
       "    </tr>\n",
       "    <tr>\n",
       "      <th id=\"T_057aa_level0_row3\" class=\"row_heading level0 row3\" >3</th>\n",
       "      <td id=\"T_057aa_row3_col0\" class=\"data row3 col0\" >Original data shape</td>\n",
       "      <td id=\"T_057aa_row3_col1\" class=\"data row3 col1\" >(7043, 8)</td>\n",
       "    </tr>\n",
       "    <tr>\n",
       "      <th id=\"T_057aa_level0_row4\" class=\"row_heading level0 row4\" >4</th>\n",
       "      <td id=\"T_057aa_row4_col0\" class=\"data row4 col0\" >Transformed data shape</td>\n",
       "      <td id=\"T_057aa_row4_col1\" class=\"data row4 col1\" >(7043, 8)</td>\n",
       "    </tr>\n",
       "    <tr>\n",
       "      <th id=\"T_057aa_level0_row5\" class=\"row_heading level0 row5\" >5</th>\n",
       "      <td id=\"T_057aa_row5_col0\" class=\"data row5 col0\" >Transformed train set shape</td>\n",
       "      <td id=\"T_057aa_row5_col1\" class=\"data row5 col1\" >(4930, 8)</td>\n",
       "    </tr>\n",
       "    <tr>\n",
       "      <th id=\"T_057aa_level0_row6\" class=\"row_heading level0 row6\" >6</th>\n",
       "      <td id=\"T_057aa_row6_col0\" class=\"data row6 col0\" >Transformed test set shape</td>\n",
       "      <td id=\"T_057aa_row6_col1\" class=\"data row6 col1\" >(2113, 8)</td>\n",
       "    </tr>\n",
       "    <tr>\n",
       "      <th id=\"T_057aa_level0_row7\" class=\"row_heading level0 row7\" >7</th>\n",
       "      <td id=\"T_057aa_row7_col0\" class=\"data row7 col0\" >Numeric features</td>\n",
       "      <td id=\"T_057aa_row7_col1\" class=\"data row7 col1\" >7</td>\n",
       "    </tr>\n",
       "    <tr>\n",
       "      <th id=\"T_057aa_level0_row8\" class=\"row_heading level0 row8\" >8</th>\n",
       "      <td id=\"T_057aa_row8_col0\" class=\"data row8 col0\" >Preprocess</td>\n",
       "      <td id=\"T_057aa_row8_col1\" class=\"data row8 col1\" >True</td>\n",
       "    </tr>\n",
       "    <tr>\n",
       "      <th id=\"T_057aa_level0_row9\" class=\"row_heading level0 row9\" >9</th>\n",
       "      <td id=\"T_057aa_row9_col0\" class=\"data row9 col0\" >Imputation type</td>\n",
       "      <td id=\"T_057aa_row9_col1\" class=\"data row9 col1\" >simple</td>\n",
       "    </tr>\n",
       "    <tr>\n",
       "      <th id=\"T_057aa_level0_row10\" class=\"row_heading level0 row10\" >10</th>\n",
       "      <td id=\"T_057aa_row10_col0\" class=\"data row10 col0\" >Numeric imputation</td>\n",
       "      <td id=\"T_057aa_row10_col1\" class=\"data row10 col1\" >mean</td>\n",
       "    </tr>\n",
       "    <tr>\n",
       "      <th id=\"T_057aa_level0_row11\" class=\"row_heading level0 row11\" >11</th>\n",
       "      <td id=\"T_057aa_row11_col0\" class=\"data row11 col0\" >Categorical imputation</td>\n",
       "      <td id=\"T_057aa_row11_col1\" class=\"data row11 col1\" >mode</td>\n",
       "    </tr>\n",
       "    <tr>\n",
       "      <th id=\"T_057aa_level0_row12\" class=\"row_heading level0 row12\" >12</th>\n",
       "      <td id=\"T_057aa_row12_col0\" class=\"data row12 col0\" >Fold Generator</td>\n",
       "      <td id=\"T_057aa_row12_col1\" class=\"data row12 col1\" >StratifiedKFold</td>\n",
       "    </tr>\n",
       "    <tr>\n",
       "      <th id=\"T_057aa_level0_row13\" class=\"row_heading level0 row13\" >13</th>\n",
       "      <td id=\"T_057aa_row13_col0\" class=\"data row13 col0\" >Fold Number</td>\n",
       "      <td id=\"T_057aa_row13_col1\" class=\"data row13 col1\" >10</td>\n",
       "    </tr>\n",
       "    <tr>\n",
       "      <th id=\"T_057aa_level0_row14\" class=\"row_heading level0 row14\" >14</th>\n",
       "      <td id=\"T_057aa_row14_col0\" class=\"data row14 col0\" >CPU Jobs</td>\n",
       "      <td id=\"T_057aa_row14_col1\" class=\"data row14 col1\" >-1</td>\n",
       "    </tr>\n",
       "    <tr>\n",
       "      <th id=\"T_057aa_level0_row15\" class=\"row_heading level0 row15\" >15</th>\n",
       "      <td id=\"T_057aa_row15_col0\" class=\"data row15 col0\" >Use GPU</td>\n",
       "      <td id=\"T_057aa_row15_col1\" class=\"data row15 col1\" >False</td>\n",
       "    </tr>\n",
       "    <tr>\n",
       "      <th id=\"T_057aa_level0_row16\" class=\"row_heading level0 row16\" >16</th>\n",
       "      <td id=\"T_057aa_row16_col0\" class=\"data row16 col0\" >Log Experiment</td>\n",
       "      <td id=\"T_057aa_row16_col1\" class=\"data row16 col1\" >False</td>\n",
       "    </tr>\n",
       "    <tr>\n",
       "      <th id=\"T_057aa_level0_row17\" class=\"row_heading level0 row17\" >17</th>\n",
       "      <td id=\"T_057aa_row17_col0\" class=\"data row17 col0\" >Experiment Name</td>\n",
       "      <td id=\"T_057aa_row17_col1\" class=\"data row17 col1\" >clf-default-name</td>\n",
       "    </tr>\n",
       "    <tr>\n",
       "      <th id=\"T_057aa_level0_row18\" class=\"row_heading level0 row18\" >18</th>\n",
       "      <td id=\"T_057aa_row18_col0\" class=\"data row18 col0\" >USI</td>\n",
       "      <td id=\"T_057aa_row18_col1\" class=\"data row18 col1\" >1677</td>\n",
       "    </tr>\n",
       "  </tbody>\n",
       "</table>\n"
      ],
      "text/plain": [
       "<pandas.io.formats.style.Styler at 0x1ff42c8cf10>"
      ]
     },
     "metadata": {},
     "output_type": "display_data"
    },
    {
     "data": {
      "text/plain": [
       "<pycaret.classification.oop.ClassificationExperiment at 0x1ff42812690>"
      ]
     },
     "execution_count": 8,
     "metadata": {},
     "output_type": "execute_result"
    }
   ],
   "source": [
    "automl.setup(df, target='Churn')"
   ]
  },
  {
   "cell_type": "code",
   "execution_count": 9,
   "id": "0c563a5d-64c4-420e-8c4a-02a8b4a0b902",
   "metadata": {},
   "outputs": [
    {
     "data": {
      "text/plain": [
       "<pycaret.classification.oop.ClassificationExperiment at 0x1ff42812690>"
      ]
     },
     "execution_count": 9,
     "metadata": {},
     "output_type": "execute_result"
    }
   ],
   "source": [
    "automl"
   ]
  },
  {
   "cell_type": "code",
   "execution_count": 10,
   "id": "b546ba1a-1459-47ca-8fa6-99c1208a3f4a",
   "metadata": {},
   "outputs": [
    {
     "data": {
      "text/html": [],
      "text/plain": [
       "<IPython.core.display.HTML object>"
      ]
     },
     "metadata": {},
     "output_type": "display_data"
    },
    {
     "data": {
      "text/html": [
       "<style type=\"text/css\">\n",
       "#T_d14fd th {\n",
       "  text-align: left;\n",
       "}\n",
       "#T_d14fd_row0_col0, #T_d14fd_row0_col3, #T_d14fd_row0_col4, #T_d14fd_row0_col5, #T_d14fd_row1_col0, #T_d14fd_row1_col1, #T_d14fd_row1_col2, #T_d14fd_row1_col3, #T_d14fd_row1_col5, #T_d14fd_row1_col6, #T_d14fd_row1_col7, #T_d14fd_row2_col0, #T_d14fd_row2_col1, #T_d14fd_row2_col2, #T_d14fd_row2_col3, #T_d14fd_row2_col4, #T_d14fd_row2_col5, #T_d14fd_row2_col6, #T_d14fd_row2_col7, #T_d14fd_row3_col0, #T_d14fd_row3_col1, #T_d14fd_row3_col2, #T_d14fd_row3_col3, #T_d14fd_row3_col4, #T_d14fd_row3_col5, #T_d14fd_row3_col6, #T_d14fd_row3_col7, #T_d14fd_row4_col0, #T_d14fd_row4_col1, #T_d14fd_row4_col2, #T_d14fd_row4_col3, #T_d14fd_row4_col4, #T_d14fd_row4_col5, #T_d14fd_row4_col6, #T_d14fd_row4_col7, #T_d14fd_row5_col0, #T_d14fd_row5_col1, #T_d14fd_row5_col2, #T_d14fd_row5_col3, #T_d14fd_row5_col4, #T_d14fd_row5_col5, #T_d14fd_row5_col6, #T_d14fd_row5_col7, #T_d14fd_row6_col0, #T_d14fd_row6_col1, #T_d14fd_row6_col2, #T_d14fd_row6_col3, #T_d14fd_row6_col4, #T_d14fd_row6_col5, #T_d14fd_row6_col6, #T_d14fd_row6_col7, #T_d14fd_row7_col0, #T_d14fd_row7_col1, #T_d14fd_row7_col2, #T_d14fd_row7_col3, #T_d14fd_row7_col4, #T_d14fd_row7_col5, #T_d14fd_row7_col6, #T_d14fd_row7_col7, #T_d14fd_row8_col0, #T_d14fd_row8_col1, #T_d14fd_row8_col2, #T_d14fd_row8_col3, #T_d14fd_row8_col4, #T_d14fd_row8_col5, #T_d14fd_row8_col6, #T_d14fd_row8_col7, #T_d14fd_row9_col0, #T_d14fd_row9_col1, #T_d14fd_row9_col2, #T_d14fd_row9_col4, #T_d14fd_row9_col6, #T_d14fd_row9_col7, #T_d14fd_row10_col0, #T_d14fd_row10_col1, #T_d14fd_row10_col2, #T_d14fd_row10_col3, #T_d14fd_row10_col4, #T_d14fd_row10_col5, #T_d14fd_row10_col6, #T_d14fd_row10_col7, #T_d14fd_row11_col0, #T_d14fd_row11_col1, #T_d14fd_row11_col2, #T_d14fd_row11_col3, #T_d14fd_row11_col4, #T_d14fd_row11_col5, #T_d14fd_row11_col6, #T_d14fd_row11_col7, #T_d14fd_row12_col0, #T_d14fd_row12_col1, #T_d14fd_row12_col2, #T_d14fd_row12_col3, #T_d14fd_row12_col4, #T_d14fd_row12_col5, #T_d14fd_row12_col6, #T_d14fd_row12_col7, #T_d14fd_row13_col0, #T_d14fd_row13_col1, #T_d14fd_row13_col2, #T_d14fd_row13_col3, #T_d14fd_row13_col4, #T_d14fd_row13_col5, #T_d14fd_row13_col6, #T_d14fd_row13_col7 {\n",
       "  text-align: left;\n",
       "}\n",
       "#T_d14fd_row0_col1, #T_d14fd_row0_col2, #T_d14fd_row0_col6, #T_d14fd_row0_col7, #T_d14fd_row1_col4, #T_d14fd_row9_col3, #T_d14fd_row9_col5 {\n",
       "  text-align: left;\n",
       "  background-color: yellow;\n",
       "}\n",
       "#T_d14fd_row0_col8, #T_d14fd_row1_col8, #T_d14fd_row2_col8, #T_d14fd_row3_col8, #T_d14fd_row4_col8, #T_d14fd_row5_col8, #T_d14fd_row6_col8, #T_d14fd_row7_col8, #T_d14fd_row8_col8, #T_d14fd_row10_col8, #T_d14fd_row11_col8, #T_d14fd_row12_col8, #T_d14fd_row13_col8 {\n",
       "  text-align: left;\n",
       "  background-color: lightgrey;\n",
       "}\n",
       "#T_d14fd_row9_col8 {\n",
       "  text-align: left;\n",
       "  background-color: yellow;\n",
       "  background-color: lightgrey;\n",
       "}\n",
       "</style>\n",
       "<table id=\"T_d14fd\">\n",
       "  <thead>\n",
       "    <tr>\n",
       "      <th class=\"blank level0\" >&nbsp;</th>\n",
       "      <th id=\"T_d14fd_level0_col0\" class=\"col_heading level0 col0\" >Model</th>\n",
       "      <th id=\"T_d14fd_level0_col1\" class=\"col_heading level0 col1\" >Accuracy</th>\n",
       "      <th id=\"T_d14fd_level0_col2\" class=\"col_heading level0 col2\" >AUC</th>\n",
       "      <th id=\"T_d14fd_level0_col3\" class=\"col_heading level0 col3\" >Recall</th>\n",
       "      <th id=\"T_d14fd_level0_col4\" class=\"col_heading level0 col4\" >Prec.</th>\n",
       "      <th id=\"T_d14fd_level0_col5\" class=\"col_heading level0 col5\" >F1</th>\n",
       "      <th id=\"T_d14fd_level0_col6\" class=\"col_heading level0 col6\" >Kappa</th>\n",
       "      <th id=\"T_d14fd_level0_col7\" class=\"col_heading level0 col7\" >MCC</th>\n",
       "      <th id=\"T_d14fd_level0_col8\" class=\"col_heading level0 col8\" >TT (Sec)</th>\n",
       "    </tr>\n",
       "  </thead>\n",
       "  <tbody>\n",
       "    <tr>\n",
       "      <th id=\"T_d14fd_level0_row0\" class=\"row_heading level0 row0\" >lr</th>\n",
       "      <td id=\"T_d14fd_row0_col0\" class=\"data row0 col0\" >Logistic Regression</td>\n",
       "      <td id=\"T_d14fd_row0_col1\" class=\"data row0 col1\" >0.7909</td>\n",
       "      <td id=\"T_d14fd_row0_col2\" class=\"data row0 col2\" >0.8298</td>\n",
       "      <td id=\"T_d14fd_row0_col3\" class=\"data row0 col3\" >0.5137</td>\n",
       "      <td id=\"T_d14fd_row0_col4\" class=\"data row0 col4\" >0.6306</td>\n",
       "      <td id=\"T_d14fd_row0_col5\" class=\"data row0 col5\" >0.5657</td>\n",
       "      <td id=\"T_d14fd_row0_col6\" class=\"data row0 col6\" >0.4299</td>\n",
       "      <td id=\"T_d14fd_row0_col7\" class=\"data row0 col7\" >0.4341</td>\n",
       "      <td id=\"T_d14fd_row0_col8\" class=\"data row0 col8\" >0.8000</td>\n",
       "    </tr>\n",
       "    <tr>\n",
       "      <th id=\"T_d14fd_level0_row1\" class=\"row_heading level0 row1\" >ridge</th>\n",
       "      <td id=\"T_d14fd_row1_col0\" class=\"data row1 col0\" >Ridge Classifier</td>\n",
       "      <td id=\"T_d14fd_row1_col1\" class=\"data row1 col1\" >0.7878</td>\n",
       "      <td id=\"T_d14fd_row1_col2\" class=\"data row1 col2\" >0.0000</td>\n",
       "      <td id=\"T_d14fd_row1_col3\" class=\"data row1 col3\" >0.4380</td>\n",
       "      <td id=\"T_d14fd_row1_col4\" class=\"data row1 col4\" >0.6493</td>\n",
       "      <td id=\"T_d14fd_row1_col5\" class=\"data row1 col5\" >0.5225</td>\n",
       "      <td id=\"T_d14fd_row1_col6\" class=\"data row1 col6\" >0.3928</td>\n",
       "      <td id=\"T_d14fd_row1_col7\" class=\"data row1 col7\" >0.4057</td>\n",
       "      <td id=\"T_d14fd_row1_col8\" class=\"data row1 col8\" >0.0320</td>\n",
       "    </tr>\n",
       "    <tr>\n",
       "      <th id=\"T_d14fd_level0_row2\" class=\"row_heading level0 row2\" >lda</th>\n",
       "      <td id=\"T_d14fd_row2_col0\" class=\"data row2 col0\" >Linear Discriminant Analysis</td>\n",
       "      <td id=\"T_d14fd_row2_col1\" class=\"data row2 col1\" >0.7870</td>\n",
       "      <td id=\"T_d14fd_row2_col2\" class=\"data row2 col2\" >0.8167</td>\n",
       "      <td id=\"T_d14fd_row2_col3\" class=\"data row2 col3\" >0.4870</td>\n",
       "      <td id=\"T_d14fd_row2_col4\" class=\"data row2 col4\" >0.6288</td>\n",
       "      <td id=\"T_d14fd_row2_col5\" class=\"data row2 col5\" >0.5478</td>\n",
       "      <td id=\"T_d14fd_row2_col6\" class=\"data row2 col6\" >0.4116</td>\n",
       "      <td id=\"T_d14fd_row2_col7\" class=\"data row2 col7\" >0.4180</td>\n",
       "      <td id=\"T_d14fd_row2_col8\" class=\"data row2 col8\" >0.0260</td>\n",
       "    </tr>\n",
       "    <tr>\n",
       "      <th id=\"T_d14fd_level0_row3\" class=\"row_heading level0 row3\" >ada</th>\n",
       "      <td id=\"T_d14fd_row3_col0\" class=\"data row3 col0\" >Ada Boost Classifier</td>\n",
       "      <td id=\"T_d14fd_row3_col1\" class=\"data row3 col1\" >0.7854</td>\n",
       "      <td id=\"T_d14fd_row3_col2\" class=\"data row3 col2\" >0.8293</td>\n",
       "      <td id=\"T_d14fd_row3_col3\" class=\"data row3 col3\" >0.4679</td>\n",
       "      <td id=\"T_d14fd_row3_col4\" class=\"data row3 col4\" >0.6313</td>\n",
       "      <td id=\"T_d14fd_row3_col5\" class=\"data row3 col5\" >0.5360</td>\n",
       "      <td id=\"T_d14fd_row3_col6\" class=\"data row3 col6\" >0.4006</td>\n",
       "      <td id=\"T_d14fd_row3_col7\" class=\"data row3 col7\" >0.4090</td>\n",
       "      <td id=\"T_d14fd_row3_col8\" class=\"data row3 col8\" >0.2870</td>\n",
       "    </tr>\n",
       "    <tr>\n",
       "      <th id=\"T_d14fd_level0_row4\" class=\"row_heading level0 row4\" >gbc</th>\n",
       "      <td id=\"T_d14fd_row4_col0\" class=\"data row4 col0\" >Gradient Boosting Classifier</td>\n",
       "      <td id=\"T_d14fd_row4_col1\" class=\"data row4 col1\" >0.7844</td>\n",
       "      <td id=\"T_d14fd_row4_col2\" class=\"data row4 col2\" >0.8294</td>\n",
       "      <td id=\"T_d14fd_row4_col3\" class=\"data row4 col3\" >0.4579</td>\n",
       "      <td id=\"T_d14fd_row4_col4\" class=\"data row4 col4\" >0.6281</td>\n",
       "      <td id=\"T_d14fd_row4_col5\" class=\"data row4 col5\" >0.5292</td>\n",
       "      <td id=\"T_d14fd_row4_col6\" class=\"data row4 col6\" >0.3940</td>\n",
       "      <td id=\"T_d14fd_row4_col7\" class=\"data row4 col7\" >0.4025</td>\n",
       "      <td id=\"T_d14fd_row4_col8\" class=\"data row4 col8\" >0.7620</td>\n",
       "    </tr>\n",
       "    <tr>\n",
       "      <th id=\"T_d14fd_level0_row5\" class=\"row_heading level0 row5\" >lightgbm</th>\n",
       "      <td id=\"T_d14fd_row5_col0\" class=\"data row5 col0\" >Light Gradient Boosting Machine</td>\n",
       "      <td id=\"T_d14fd_row5_col1\" class=\"data row5 col1\" >0.7779</td>\n",
       "      <td id=\"T_d14fd_row5_col2\" class=\"data row5 col2\" >0.8122</td>\n",
       "      <td id=\"T_d14fd_row5_col3\" class=\"data row5 col3\" >0.4862</td>\n",
       "      <td id=\"T_d14fd_row5_col4\" class=\"data row5 col4\" >0.6017</td>\n",
       "      <td id=\"T_d14fd_row5_col5\" class=\"data row5 col5\" >0.5365</td>\n",
       "      <td id=\"T_d14fd_row5_col6\" class=\"data row5 col6\" >0.3929</td>\n",
       "      <td id=\"T_d14fd_row5_col7\" class=\"data row5 col7\" >0.3975</td>\n",
       "      <td id=\"T_d14fd_row5_col8\" class=\"data row5 col8\" >0.4930</td>\n",
       "    </tr>\n",
       "    <tr>\n",
       "      <th id=\"T_d14fd_level0_row6\" class=\"row_heading level0 row6\" >knn</th>\n",
       "      <td id=\"T_d14fd_row6_col0\" class=\"data row6 col0\" >K Neighbors Classifier</td>\n",
       "      <td id=\"T_d14fd_row6_col1\" class=\"data row6 col1\" >0.7684</td>\n",
       "      <td id=\"T_d14fd_row6_col2\" class=\"data row6 col2\" >0.7442</td>\n",
       "      <td id=\"T_d14fd_row6_col3\" class=\"data row6 col3\" >0.4389</td>\n",
       "      <td id=\"T_d14fd_row6_col4\" class=\"data row6 col4\" >0.5842</td>\n",
       "      <td id=\"T_d14fd_row6_col5\" class=\"data row6 col5\" >0.5006</td>\n",
       "      <td id=\"T_d14fd_row6_col6\" class=\"data row6 col6\" >0.3540</td>\n",
       "      <td id=\"T_d14fd_row6_col7\" class=\"data row6 col7\" >0.3604</td>\n",
       "      <td id=\"T_d14fd_row6_col8\" class=\"data row6 col8\" >0.8490</td>\n",
       "    </tr>\n",
       "    <tr>\n",
       "      <th id=\"T_d14fd_level0_row7\" class=\"row_heading level0 row7\" >rf</th>\n",
       "      <td id=\"T_d14fd_row7_col0\" class=\"data row7 col0\" >Random Forest Classifier</td>\n",
       "      <td id=\"T_d14fd_row7_col1\" class=\"data row7 col1\" >0.7641</td>\n",
       "      <td id=\"T_d14fd_row7_col2\" class=\"data row7 col2\" >0.7971</td>\n",
       "      <td id=\"T_d14fd_row7_col3\" class=\"data row7 col3\" >0.4534</td>\n",
       "      <td id=\"T_d14fd_row7_col4\" class=\"data row7 col4\" >0.5701</td>\n",
       "      <td id=\"T_d14fd_row7_col5\" class=\"data row7 col5\" >0.5043</td>\n",
       "      <td id=\"T_d14fd_row7_col6\" class=\"data row7 col6\" >0.3524</td>\n",
       "      <td id=\"T_d14fd_row7_col7\" class=\"data row7 col7\" >0.3568</td>\n",
       "      <td id=\"T_d14fd_row7_col8\" class=\"data row7 col8\" >0.5720</td>\n",
       "    </tr>\n",
       "    <tr>\n",
       "      <th id=\"T_d14fd_level0_row8\" class=\"row_heading level0 row8\" >et</th>\n",
       "      <td id=\"T_d14fd_row8_col0\" class=\"data row8 col0\" >Extra Trees Classifier</td>\n",
       "      <td id=\"T_d14fd_row8_col1\" class=\"data row8 col1\" >0.7550</td>\n",
       "      <td id=\"T_d14fd_row8_col2\" class=\"data row8 col2\" >0.7709</td>\n",
       "      <td id=\"T_d14fd_row8_col3\" class=\"data row8 col3\" >0.4595</td>\n",
       "      <td id=\"T_d14fd_row8_col4\" class=\"data row8 col4\" >0.5460</td>\n",
       "      <td id=\"T_d14fd_row8_col5\" class=\"data row8 col5\" >0.4987</td>\n",
       "      <td id=\"T_d14fd_row8_col6\" class=\"data row8 col6\" >0.3382</td>\n",
       "      <td id=\"T_d14fd_row8_col7\" class=\"data row8 col7\" >0.3406</td>\n",
       "      <td id=\"T_d14fd_row8_col8\" class=\"data row8 col8\" >0.3130</td>\n",
       "    </tr>\n",
       "    <tr>\n",
       "      <th id=\"T_d14fd_level0_row9\" class=\"row_heading level0 row9\" >qda</th>\n",
       "      <td id=\"T_d14fd_row9_col0\" class=\"data row9 col0\" >Quadratic Discriminant Analysis</td>\n",
       "      <td id=\"T_d14fd_row9_col1\" class=\"data row9 col1\" >0.7414</td>\n",
       "      <td id=\"T_d14fd_row9_col2\" class=\"data row9 col2\" >0.8128</td>\n",
       "      <td id=\"T_d14fd_row9_col3\" class=\"data row9 col3\" >0.7125</td>\n",
       "      <td id=\"T_d14fd_row9_col4\" class=\"data row9 col4\" >0.5099</td>\n",
       "      <td id=\"T_d14fd_row9_col5\" class=\"data row9 col5\" >0.5941</td>\n",
       "      <td id=\"T_d14fd_row9_col6\" class=\"data row9 col6\" >0.4121</td>\n",
       "      <td id=\"T_d14fd_row9_col7\" class=\"data row9 col7\" >0.4248</td>\n",
       "      <td id=\"T_d14fd_row9_col8\" class=\"data row9 col8\" >0.0180</td>\n",
       "    </tr>\n",
       "    <tr>\n",
       "      <th id=\"T_d14fd_level0_row10\" class=\"row_heading level0 row10\" >nb</th>\n",
       "      <td id=\"T_d14fd_row10_col0\" class=\"data row10 col0\" >Naive Bayes</td>\n",
       "      <td id=\"T_d14fd_row10_col1\" class=\"data row10 col1\" >0.7375</td>\n",
       "      <td id=\"T_d14fd_row10_col2\" class=\"data row10 col2\" >0.8075</td>\n",
       "      <td id=\"T_d14fd_row10_col3\" class=\"data row10 col3\" >0.7003</td>\n",
       "      <td id=\"T_d14fd_row10_col4\" class=\"data row10 col4\" >0.5054</td>\n",
       "      <td id=\"T_d14fd_row10_col5\" class=\"data row10 col5\" >0.5865</td>\n",
       "      <td id=\"T_d14fd_row10_col6\" class=\"data row10 col6\" >0.4019</td>\n",
       "      <td id=\"T_d14fd_row10_col7\" class=\"data row10 col7\" >0.4138</td>\n",
       "      <td id=\"T_d14fd_row10_col8\" class=\"data row10 col8\" >0.0350</td>\n",
       "    </tr>\n",
       "    <tr>\n",
       "      <th id=\"T_d14fd_level0_row11\" class=\"row_heading level0 row11\" >dummy</th>\n",
       "      <td id=\"T_d14fd_row11_col0\" class=\"data row11 col0\" >Dummy Classifier</td>\n",
       "      <td id=\"T_d14fd_row11_col1\" class=\"data row11 col1\" >0.7347</td>\n",
       "      <td id=\"T_d14fd_row11_col2\" class=\"data row11 col2\" >0.5000</td>\n",
       "      <td id=\"T_d14fd_row11_col3\" class=\"data row11 col3\" >0.0000</td>\n",
       "      <td id=\"T_d14fd_row11_col4\" class=\"data row11 col4\" >0.0000</td>\n",
       "      <td id=\"T_d14fd_row11_col5\" class=\"data row11 col5\" >0.0000</td>\n",
       "      <td id=\"T_d14fd_row11_col6\" class=\"data row11 col6\" >0.0000</td>\n",
       "      <td id=\"T_d14fd_row11_col7\" class=\"data row11 col7\" >0.0000</td>\n",
       "      <td id=\"T_d14fd_row11_col8\" class=\"data row11 col8\" >0.0220</td>\n",
       "    </tr>\n",
       "    <tr>\n",
       "      <th id=\"T_d14fd_level0_row12\" class=\"row_heading level0 row12\" >dt</th>\n",
       "      <td id=\"T_d14fd_row12_col0\" class=\"data row12 col0\" >Decision Tree Classifier</td>\n",
       "      <td id=\"T_d14fd_row12_col1\" class=\"data row12 col1\" >0.7195</td>\n",
       "      <td id=\"T_d14fd_row12_col2\" class=\"data row12 col2\" >0.6466</td>\n",
       "      <td id=\"T_d14fd_row12_col3\" class=\"data row12 col3\" >0.4755</td>\n",
       "      <td id=\"T_d14fd_row12_col4\" class=\"data row12 col4\" >0.4728</td>\n",
       "      <td id=\"T_d14fd_row12_col5\" class=\"data row12 col5\" >0.4733</td>\n",
       "      <td id=\"T_d14fd_row12_col6\" class=\"data row12 col6\" >0.2824</td>\n",
       "      <td id=\"T_d14fd_row12_col7\" class=\"data row12 col7\" >0.2829</td>\n",
       "      <td id=\"T_d14fd_row12_col8\" class=\"data row12 col8\" >0.0370</td>\n",
       "    </tr>\n",
       "    <tr>\n",
       "      <th id=\"T_d14fd_level0_row13\" class=\"row_heading level0 row13\" >svm</th>\n",
       "      <td id=\"T_d14fd_row13_col0\" class=\"data row13 col0\" >SVM - Linear Kernel</td>\n",
       "      <td id=\"T_d14fd_row13_col1\" class=\"data row13 col1\" >0.6939</td>\n",
       "      <td id=\"T_d14fd_row13_col2\" class=\"data row13 col2\" >0.0000</td>\n",
       "      <td id=\"T_d14fd_row13_col3\" class=\"data row13 col3\" >0.4896</td>\n",
       "      <td id=\"T_d14fd_row13_col4\" class=\"data row13 col4\" >0.5374</td>\n",
       "      <td id=\"T_d14fd_row13_col5\" class=\"data row13 col5\" >0.4237</td>\n",
       "      <td id=\"T_d14fd_row13_col6\" class=\"data row13 col6\" >0.2506</td>\n",
       "      <td id=\"T_d14fd_row13_col7\" class=\"data row13 col7\" >0.3006</td>\n",
       "      <td id=\"T_d14fd_row13_col8\" class=\"data row13 col8\" >0.0450</td>\n",
       "    </tr>\n",
       "  </tbody>\n",
       "</table>\n"
      ],
      "text/plain": [
       "<pandas.io.formats.style.Styler at 0x1ff448d7a90>"
      ]
     },
     "metadata": {},
     "output_type": "display_data"
    },
    {
     "data": {
      "text/html": [],
      "text/plain": [
       "<IPython.core.display.HTML object>"
      ]
     },
     "metadata": {},
     "output_type": "display_data"
    }
   ],
   "source": [
    "best_model = automl.compare_models()"
   ]
  },
  {
   "cell_type": "code",
   "execution_count": 11,
   "id": "49623e32-5412-424d-9477-702860bdc723",
   "metadata": {},
   "outputs": [
    {
     "data": {
      "text/html": [
       "<style>#sk-container-id-1 {color: black;background-color: white;}#sk-container-id-1 pre{padding: 0;}#sk-container-id-1 div.sk-toggleable {background-color: white;}#sk-container-id-1 label.sk-toggleable__label {cursor: pointer;display: block;width: 100%;margin-bottom: 0;padding: 0.3em;box-sizing: border-box;text-align: center;}#sk-container-id-1 label.sk-toggleable__label-arrow:before {content: \"▸\";float: left;margin-right: 0.25em;color: #696969;}#sk-container-id-1 label.sk-toggleable__label-arrow:hover:before {color: black;}#sk-container-id-1 div.sk-estimator:hover label.sk-toggleable__label-arrow:before {color: black;}#sk-container-id-1 div.sk-toggleable__content {max-height: 0;max-width: 0;overflow: hidden;text-align: left;background-color: #f0f8ff;}#sk-container-id-1 div.sk-toggleable__content pre {margin: 0.2em;color: black;border-radius: 0.25em;background-color: #f0f8ff;}#sk-container-id-1 input.sk-toggleable__control:checked~div.sk-toggleable__content {max-height: 200px;max-width: 100%;overflow: auto;}#sk-container-id-1 input.sk-toggleable__control:checked~label.sk-toggleable__label-arrow:before {content: \"▾\";}#sk-container-id-1 div.sk-estimator input.sk-toggleable__control:checked~label.sk-toggleable__label {background-color: #d4ebff;}#sk-container-id-1 div.sk-label input.sk-toggleable__control:checked~label.sk-toggleable__label {background-color: #d4ebff;}#sk-container-id-1 input.sk-hidden--visually {border: 0;clip: rect(1px 1px 1px 1px);clip: rect(1px, 1px, 1px, 1px);height: 1px;margin: -1px;overflow: hidden;padding: 0;position: absolute;width: 1px;}#sk-container-id-1 div.sk-estimator {font-family: monospace;background-color: #f0f8ff;border: 1px dotted black;border-radius: 0.25em;box-sizing: border-box;margin-bottom: 0.5em;}#sk-container-id-1 div.sk-estimator:hover {background-color: #d4ebff;}#sk-container-id-1 div.sk-parallel-item::after {content: \"\";width: 100%;border-bottom: 1px solid gray;flex-grow: 1;}#sk-container-id-1 div.sk-label:hover label.sk-toggleable__label {background-color: #d4ebff;}#sk-container-id-1 div.sk-serial::before {content: \"\";position: absolute;border-left: 1px solid gray;box-sizing: border-box;top: 0;bottom: 0;left: 50%;z-index: 0;}#sk-container-id-1 div.sk-serial {display: flex;flex-direction: column;align-items: center;background-color: white;padding-right: 0.2em;padding-left: 0.2em;position: relative;}#sk-container-id-1 div.sk-item {position: relative;z-index: 1;}#sk-container-id-1 div.sk-parallel {display: flex;align-items: stretch;justify-content: center;background-color: white;position: relative;}#sk-container-id-1 div.sk-item::before, #sk-container-id-1 div.sk-parallel-item::before {content: \"\";position: absolute;border-left: 1px solid gray;box-sizing: border-box;top: 0;bottom: 0;left: 50%;z-index: -1;}#sk-container-id-1 div.sk-parallel-item {display: flex;flex-direction: column;z-index: 1;position: relative;background-color: white;}#sk-container-id-1 div.sk-parallel-item:first-child::after {align-self: flex-end;width: 50%;}#sk-container-id-1 div.sk-parallel-item:last-child::after {align-self: flex-start;width: 50%;}#sk-container-id-1 div.sk-parallel-item:only-child::after {width: 0;}#sk-container-id-1 div.sk-dashed-wrapped {border: 1px dashed gray;margin: 0 0.4em 0.5em 0.4em;box-sizing: border-box;padding-bottom: 0.4em;background-color: white;}#sk-container-id-1 div.sk-label label {font-family: monospace;font-weight: bold;display: inline-block;line-height: 1.2em;}#sk-container-id-1 div.sk-label-container {text-align: center;}#sk-container-id-1 div.sk-container {/* jupyter's `normalize.less` sets `[hidden] { display: none; }` but bootstrap.min.css set `[hidden] { display: none !important; }` so we also need the `!important` here to be able to override the default hidden behavior on the sphinx rendered scikit-learn.org. See: https://github.com/scikit-learn/scikit-learn/issues/21755 */display: inline-block !important;position: relative;}#sk-container-id-1 div.sk-text-repr-fallback {display: none;}</style><div id=\"sk-container-id-1\" class=\"sk-top-container\"><div class=\"sk-text-repr-fallback\"><pre>LogisticRegression(C=1.0, class_weight=None, dual=False, fit_intercept=True,\n",
       "                   intercept_scaling=1, l1_ratio=None, max_iter=1000,\n",
       "                   multi_class=&#x27;auto&#x27;, n_jobs=None, penalty=&#x27;l2&#x27;,\n",
       "                   random_state=2647, solver=&#x27;lbfgs&#x27;, tol=0.0001, verbose=0,\n",
       "                   warm_start=False)</pre><b>In a Jupyter environment, please rerun this cell to show the HTML representation or trust the notebook. <br />On GitHub, the HTML representation is unable to render, please try loading this page with nbviewer.org.</b></div><div class=\"sk-container\" hidden><div class=\"sk-item\"><div class=\"sk-estimator sk-toggleable\"><input class=\"sk-toggleable__control sk-hidden--visually\" id=\"sk-estimator-id-1\" type=\"checkbox\" checked><label for=\"sk-estimator-id-1\" class=\"sk-toggleable__label sk-toggleable__label-arrow\">LogisticRegression</label><div class=\"sk-toggleable__content\"><pre>LogisticRegression(C=1.0, class_weight=None, dual=False, fit_intercept=True,\n",
       "                   intercept_scaling=1, l1_ratio=None, max_iter=1000,\n",
       "                   multi_class=&#x27;auto&#x27;, n_jobs=None, penalty=&#x27;l2&#x27;,\n",
       "                   random_state=2647, solver=&#x27;lbfgs&#x27;, tol=0.0001, verbose=0,\n",
       "                   warm_start=False)</pre></div></div></div></div></div>"
      ],
      "text/plain": [
       "LogisticRegression(C=1.0, class_weight=None, dual=False, fit_intercept=True,\n",
       "                   intercept_scaling=1, l1_ratio=None, max_iter=1000,\n",
       "                   multi_class='auto', n_jobs=None, penalty='l2',\n",
       "                   random_state=2647, solver='lbfgs', tol=0.0001, verbose=0,\n",
       "                   warm_start=False)"
      ]
     },
     "execution_count": 11,
     "metadata": {},
     "output_type": "execute_result"
    }
   ],
   "source": [
    "best_model"
   ]
  },
  {
   "cell_type": "markdown",
   "id": "1f546446-afb7-478e-823e-f1b38c74a816",
   "metadata": {},
   "source": [
    "I used auto ml to compare the models which showed logistic regression is the most accurate and then used best_model to use logistric regression moving forward. "
   ]
  },
  {
   "cell_type": "code",
   "execution_count": 12,
   "id": "d89fb19b-b24f-4b5d-8d07-91146dfdbd9c",
   "metadata": {},
   "outputs": [
    {
     "data": {
      "application/vnd.jupyter.widget-view+json": {
       "model_id": "1016ff4edcac4cc4ab796d2a7bec3831",
       "version_major": 2,
       "version_minor": 0
      },
      "text/plain": [
       "interactive(children=(ToggleButtons(description='Plot Type:', icons=('',), options=(('Pipeline Plot', 'pipelin…"
      ]
     },
     "metadata": {},
     "output_type": "display_data"
    }
   ],
   "source": [
    "automl.evaluate_model(best_model)"
   ]
  },
  {
   "cell_type": "code",
   "execution_count": 13,
   "id": "ca6c594b-db48-4f91-81b9-130f6dd51e25",
   "metadata": {},
   "outputs": [
    {
     "data": {
      "text/html": [],
      "text/plain": [
       "<IPython.core.display.HTML object>"
      ]
     },
     "metadata": {},
     "output_type": "display_data"
    },
    {
     "data": {
      "image/png": "[encoded data removed]",
      "text/plain": [
       "<Figure size 800x550 with 1 Axes>"
      ]
     },
     "metadata": {},
     "output_type": "display_data"
    }
   ],
   "source": [
    "automl.plot_model(best_model)"
   ]
  },
  {
   "cell_type": "code",
   "execution_count": 15,
   "id": "de9d72bf-53a5-4744-8e9f-1935d793ff7d",
   "metadata": {},
   "outputs": [
    {
     "data": {
      "text/html": [],
      "text/plain": [
       "<IPython.core.display.HTML object>"
      ]
     },
     "metadata": {},
     "output_type": "display_data"
    },
    {
     "data": {
      "image/png": "[encoded data removed]",
      "text/plain": [
       "<Figure size 800x550 with 1 Axes>"
      ]
     },
     "metadata": {},
     "output_type": "display_data"
    }
   ],
   "source": [
    "automl.plot_model(best_model, plot = 'confusion_matrix')"
   ]
  },
  {
   "cell_type": "code",
   "execution_count": 16,
   "id": "44540240-35fc-46f2-8d91-73a0afcde887",
   "metadata": {},
   "outputs": [
    {
     "data": {
      "text/plain": [
       "(1, 8)"
      ]
     },
     "execution_count": 16,
     "metadata": {},
     "output_type": "execute_result"
    }
   ],
   "source": [
    "df.iloc[-2:-1].shape"
   ]
  },
  {
   "cell_type": "code",
   "execution_count": 17,
   "id": "a1a515ea-e1c6-4109-8cfb-f9edee0f7051",
   "metadata": {},
   "outputs": [
    {
     "data": {
      "text/html": [
       "<style type=\"text/css\">\n",
       "</style>\n",
       "<table id=\"T_e943d\">\n",
       "  <thead>\n",
       "    <tr>\n",
       "      <th class=\"blank level0\" >&nbsp;</th>\n",
       "      <th id=\"T_e943d_level0_col0\" class=\"col_heading level0 col0\" >Model</th>\n",
       "      <th id=\"T_e943d_level0_col1\" class=\"col_heading level0 col1\" >Accuracy</th>\n",
       "      <th id=\"T_e943d_level0_col2\" class=\"col_heading level0 col2\" >AUC</th>\n",
       "      <th id=\"T_e943d_level0_col3\" class=\"col_heading level0 col3\" >Recall</th>\n",
       "      <th id=\"T_e943d_level0_col4\" class=\"col_heading level0 col4\" >Prec.</th>\n",
       "      <th id=\"T_e943d_level0_col5\" class=\"col_heading level0 col5\" >F1</th>\n",
       "      <th id=\"T_e943d_level0_col6\" class=\"col_heading level0 col6\" >Kappa</th>\n",
       "      <th id=\"T_e943d_level0_col7\" class=\"col_heading level0 col7\" >MCC</th>\n",
       "    </tr>\n",
       "  </thead>\n",
       "  <tbody>\n",
       "    <tr>\n",
       "      <th id=\"T_e943d_level0_row0\" class=\"row_heading level0 row0\" >0</th>\n",
       "      <td id=\"T_e943d_row0_col0\" class=\"data row0 col0\" >Logistic Regression</td>\n",
       "      <td id=\"T_e943d_row0_col1\" class=\"data row0 col1\" >1.0000</td>\n",
       "      <td id=\"T_e943d_row0_col2\" class=\"data row0 col2\" >0</td>\n",
       "      <td id=\"T_e943d_row0_col3\" class=\"data row0 col3\" >1.0000</td>\n",
       "      <td id=\"T_e943d_row0_col4\" class=\"data row0 col4\" >1.0000</td>\n",
       "      <td id=\"T_e943d_row0_col5\" class=\"data row0 col5\" >1.0000</td>\n",
       "      <td id=\"T_e943d_row0_col6\" class=\"data row0 col6\" >nan</td>\n",
       "      <td id=\"T_e943d_row0_col7\" class=\"data row0 col7\" >0.0000</td>\n",
       "    </tr>\n",
       "  </tbody>\n",
       "</table>\n"
      ],
      "text/plain": [
       "<pandas.io.formats.style.Styler at 0x1ff26cbcc50>"
      ]
     },
     "metadata": {},
     "output_type": "display_data"
    },
    {
     "data": {
      "text/html": [
       "<div>\n",
       "<style scoped>\n",
       "    .dataframe tbody tr th:only-of-type {\n",
       "        vertical-align: middle;\n",
       "    }\n",
       "\n",
       "    .dataframe tbody tr th {\n",
       "        vertical-align: top;\n",
       "    }\n",
       "\n",
       "    .dataframe thead th {\n",
       "        text-align: right;\n",
       "    }\n",
       "</style>\n",
       "<table border=\"1\" class=\"dataframe\">\n",
       "  <thead>\n",
       "    <tr style=\"text-align: right;\">\n",
       "      <th></th>\n",
       "      <th>tenure</th>\n",
       "      <th>PhoneService</th>\n",
       "      <th>Contract</th>\n",
       "      <th>PaymentMethod</th>\n",
       "      <th>MonthlyCharges</th>\n",
       "      <th>TotalCharges</th>\n",
       "      <th>charge_per_tenure</th>\n",
       "      <th>Churn</th>\n",
       "      <th>prediction_label</th>\n",
       "      <th>prediction_score</th>\n",
       "    </tr>\n",
       "    <tr>\n",
       "      <th>customerID</th>\n",
       "      <th></th>\n",
       "      <th></th>\n",
       "      <th></th>\n",
       "      <th></th>\n",
       "      <th></th>\n",
       "      <th></th>\n",
       "      <th></th>\n",
       "      <th></th>\n",
       "      <th></th>\n",
       "      <th></th>\n",
       "    </tr>\n",
       "  </thead>\n",
       "  <tbody>\n",
       "    <tr>\n",
       "      <th>8361-LTMKD</th>\n",
       "      <td>4.0</td>\n",
       "      <td>1</td>\n",
       "      <td>0</td>\n",
       "      <td>2</td>\n",
       "      <td>74.400002</td>\n",
       "      <td>306.600006</td>\n",
       "      <td>76.650002</td>\n",
       "      <td>1</td>\n",
       "      <td>1</td>\n",
       "      <td>0.5707</td>\n",
       "    </tr>\n",
       "  </tbody>\n",
       "</table>\n",
       "</div>"
      ],
      "text/plain": [
       "            tenure  PhoneService  Contract  PaymentMethod  MonthlyCharges  \\\n",
       "customerID                                                                  \n",
       "8361-LTMKD     4.0             1         0              2       74.400002   \n",
       "\n",
       "            TotalCharges  charge_per_tenure  Churn  prediction_label  \\\n",
       "customerID                                                             \n",
       "8361-LTMKD    306.600006          76.650002      1                 1   \n",
       "\n",
       "            prediction_score  \n",
       "customerID                    \n",
       "8361-LTMKD            0.5707  "
      ]
     },
     "execution_count": 17,
     "metadata": {},
     "output_type": "execute_result"
    }
   ],
   "source": [
    "automl.predict_model(best_model, df.iloc[-2:-1])"
   ]
  },
  {
   "cell_type": "code",
   "execution_count": 18,
   "id": "a39a316b-d513-4ff6-a609-5c37ab2d11a9",
   "metadata": {},
   "outputs": [
    {
     "data": {
      "text/html": [
       "<style type=\"text/css\">\n",
       "</style>\n",
       "<table id=\"T_b4c58\">\n",
       "  <thead>\n",
       "    <tr>\n",
       "      <th class=\"blank level0\" >&nbsp;</th>\n",
       "      <th id=\"T_b4c58_level0_col0\" class=\"col_heading level0 col0\" >Model</th>\n",
       "      <th id=\"T_b4c58_level0_col1\" class=\"col_heading level0 col1\" >Accuracy</th>\n",
       "      <th id=\"T_b4c58_level0_col2\" class=\"col_heading level0 col2\" >AUC</th>\n",
       "      <th id=\"T_b4c58_level0_col3\" class=\"col_heading level0 col3\" >Recall</th>\n",
       "      <th id=\"T_b4c58_level0_col4\" class=\"col_heading level0 col4\" >Prec.</th>\n",
       "      <th id=\"T_b4c58_level0_col5\" class=\"col_heading level0 col5\" >F1</th>\n",
       "      <th id=\"T_b4c58_level0_col6\" class=\"col_heading level0 col6\" >Kappa</th>\n",
       "      <th id=\"T_b4c58_level0_col7\" class=\"col_heading level0 col7\" >MCC</th>\n",
       "    </tr>\n",
       "  </thead>\n",
       "  <tbody>\n",
       "    <tr>\n",
       "      <th id=\"T_b4c58_level0_row0\" class=\"row_heading level0 row0\" >0</th>\n",
       "      <td id=\"T_b4c58_row0_col0\" class=\"data row0 col0\" >Logistic Regression</td>\n",
       "      <td id=\"T_b4c58_row0_col1\" class=\"data row0 col1\" >0.7968</td>\n",
       "      <td id=\"T_b4c58_row0_col2\" class=\"data row0 col2\" >0.8361</td>\n",
       "      <td id=\"T_b4c58_row0_col3\" class=\"data row0 col3\" >0.5249</td>\n",
       "      <td id=\"T_b4c58_row0_col4\" class=\"data row0 col4\" >0.6437</td>\n",
       "      <td id=\"T_b4c58_row0_col5\" class=\"data row0 col5\" >0.5782</td>\n",
       "      <td id=\"T_b4c58_row0_col6\" class=\"data row0 col6\" >0.4462</td>\n",
       "      <td id=\"T_b4c58_row0_col7\" class=\"data row0 col7\" >0.4503</td>\n",
       "    </tr>\n",
       "  </tbody>\n",
       "</table>\n"
      ],
      "text/plain": [
       "<pandas.io.formats.style.Styler at 0x1ff44b1d8d0>"
      ]
     },
     "metadata": {},
     "output_type": "display_data"
    }
   ],
   "source": [
    "predictions = automl.predict_model(best_model, data=df)"
   ]
  },
  {
   "cell_type": "code",
   "execution_count": 19,
   "id": "8c2c08ad-4fa8-4ff3-b88a-3e240a210019",
   "metadata": {},
   "outputs": [
    {
     "data": {
      "text/html": [
       "<div>\n",
       "<style scoped>\n",
       "    .dataframe tbody tr th:only-of-type {\n",
       "        vertical-align: middle;\n",
       "    }\n",
       "\n",
       "    .dataframe tbody tr th {\n",
       "        vertical-align: top;\n",
       "    }\n",
       "\n",
       "    .dataframe thead th {\n",
       "        text-align: right;\n",
       "    }\n",
       "</style>\n",
       "<table border=\"1\" class=\"dataframe\">\n",
       "  <thead>\n",
       "    <tr style=\"text-align: right;\">\n",
       "      <th></th>\n",
       "      <th>tenure</th>\n",
       "      <th>PhoneService</th>\n",
       "      <th>Contract</th>\n",
       "      <th>PaymentMethod</th>\n",
       "      <th>MonthlyCharges</th>\n",
       "      <th>TotalCharges</th>\n",
       "      <th>charge_per_tenure</th>\n",
       "      <th>Churn</th>\n",
       "      <th>prediction_label</th>\n",
       "      <th>prediction_score</th>\n",
       "    </tr>\n",
       "    <tr>\n",
       "      <th>customerID</th>\n",
       "      <th></th>\n",
       "      <th></th>\n",
       "      <th></th>\n",
       "      <th></th>\n",
       "      <th></th>\n",
       "      <th></th>\n",
       "      <th></th>\n",
       "      <th></th>\n",
       "      <th></th>\n",
       "      <th></th>\n",
       "    </tr>\n",
       "  </thead>\n",
       "  <tbody>\n",
       "    <tr>\n",
       "      <th>7590-VHVEG</th>\n",
       "      <td>1.0</td>\n",
       "      <td>0</td>\n",
       "      <td>0</td>\n",
       "      <td>3</td>\n",
       "      <td>29.850000</td>\n",
       "      <td>29.850000</td>\n",
       "      <td>29.850000</td>\n",
       "      <td>0</td>\n",
       "      <td>1</td>\n",
       "      <td>0.5858</td>\n",
       "    </tr>\n",
       "    <tr>\n",
       "      <th>5575-GNVDE</th>\n",
       "      <td>34.0</td>\n",
       "      <td>1</td>\n",
       "      <td>1</td>\n",
       "      <td>2</td>\n",
       "      <td>56.950001</td>\n",
       "      <td>1889.500000</td>\n",
       "      <td>55.573528</td>\n",
       "      <td>0</td>\n",
       "      <td>0</td>\n",
       "      <td>0.9218</td>\n",
       "    </tr>\n",
       "    <tr>\n",
       "      <th>3668-QPYBK</th>\n",
       "      <td>2.0</td>\n",
       "      <td>1</td>\n",
       "      <td>0</td>\n",
       "      <td>2</td>\n",
       "      <td>53.849998</td>\n",
       "      <td>108.150002</td>\n",
       "      <td>54.075001</td>\n",
       "      <td>1</td>\n",
       "      <td>0</td>\n",
       "      <td>0.5531</td>\n",
       "    </tr>\n",
       "    <tr>\n",
       "      <th>7795-CFOCW</th>\n",
       "      <td>45.0</td>\n",
       "      <td>0</td>\n",
       "      <td>1</td>\n",
       "      <td>1</td>\n",
       "      <td>42.299999</td>\n",
       "      <td>1840.750000</td>\n",
       "      <td>40.905556</td>\n",
       "      <td>0</td>\n",
       "      <td>0</td>\n",
       "      <td>0.9323</td>\n",
       "    </tr>\n",
       "    <tr>\n",
       "      <th>9237-HQITU</th>\n",
       "      <td>2.0</td>\n",
       "      <td>1</td>\n",
       "      <td>0</td>\n",
       "      <td>3</td>\n",
       "      <td>70.699997</td>\n",
       "      <td>151.649994</td>\n",
       "      <td>75.824997</td>\n",
       "      <td>1</td>\n",
       "      <td>1</td>\n",
       "      <td>0.5985</td>\n",
       "    </tr>\n",
       "  </tbody>\n",
       "</table>\n",
       "</div>"
      ],
      "text/plain": [
       "            tenure  PhoneService  Contract  PaymentMethod  MonthlyCharges  \\\n",
       "customerID                                                                  \n",
       "7590-VHVEG     1.0             0         0              3       29.850000   \n",
       "5575-GNVDE    34.0             1         1              2       56.950001   \n",
       "3668-QPYBK     2.0             1         0              2       53.849998   \n",
       "7795-CFOCW    45.0             0         1              1       42.299999   \n",
       "9237-HQITU     2.0             1         0              3       70.699997   \n",
       "\n",
       "            TotalCharges  charge_per_tenure  Churn  prediction_label  \\\n",
       "customerID                                                             \n",
       "7590-VHVEG     29.850000          29.850000      0                 1   \n",
       "5575-GNVDE   1889.500000          55.573528      0                 0   \n",
       "3668-QPYBK    108.150002          54.075001      1                 0   \n",
       "7795-CFOCW   1840.750000          40.905556      0                 0   \n",
       "9237-HQITU    151.649994          75.824997      1                 1   \n",
       "\n",
       "            prediction_score  \n",
       "customerID                    \n",
       "7590-VHVEG            0.5858  \n",
       "5575-GNVDE            0.9218  \n",
       "3668-QPYBK            0.5531  \n",
       "7795-CFOCW            0.9323  \n",
       "9237-HQITU            0.5985  "
      ]
     },
     "execution_count": 19,
     "metadata": {},
     "output_type": "execute_result"
    }
   ],
   "source": [
    "predictions.head()"
   ]
  },
  {
   "cell_type": "code",
   "execution_count": 20,
   "id": "18868753-d0a0-4122-934e-17333c4d76f5",
   "metadata": {},
   "outputs": [
    {
     "name": "stdout",
     "output_type": "stream",
     "text": [
      "Transformation Pipeline and Model Successfully Saved\n"
     ]
    },
    {
     "data": {
      "text/plain": [
       "(Pipeline(memory=Memory(location=None),\n",
       "          steps=[('numerical_imputer',\n",
       "                  TransformerWrapper(exclude=None,\n",
       "                                     include=['tenure', 'PhoneService',\n",
       "                                              'Contract', 'PaymentMethod',\n",
       "                                              'MonthlyCharges', 'TotalCharges',\n",
       "                                              'charge_per_tenure'],\n",
       "                                     transformer=SimpleImputer(add_indicator=False,\n",
       "                                                               copy=True,\n",
       "                                                               fill_value=None,\n",
       "                                                               keep_empty_features=False,\n",
       "                                                               missing_values=nan,\n",
       "                                                               strategy='mean',\n",
       "                                                               verbos...\n",
       "                                                               keep_empty_features=False,\n",
       "                                                               missing_values=nan,\n",
       "                                                               strategy='most_frequent',\n",
       "                                                               verbose='deprecated'))),\n",
       "                 ('trained_model',\n",
       "                  LogisticRegression(C=1.0, class_weight=None, dual=False,\n",
       "                                     fit_intercept=True, intercept_scaling=1,\n",
       "                                     l1_ratio=None, max_iter=1000,\n",
       "                                     multi_class='auto', n_jobs=None,\n",
       "                                     penalty='l2', random_state=2647,\n",
       "                                     solver='lbfgs', tol=0.0001, verbose=0,\n",
       "                                     warm_start=False))],\n",
       "          verbose=False),\n",
       " 'pycaret_model.pkl')"
      ]
     },
     "execution_count": 20,
     "metadata": {},
     "output_type": "execute_result"
    }
   ],
   "source": [
    "automl.save_model(best_model, 'pycaret_model')"
   ]
  },
  {
   "cell_type": "code",
   "execution_count": 21,
   "id": "46eab63b-148d-46dc-9f55-24a1fbb61da1",
   "metadata": {},
   "outputs": [
    {
     "name": "stdout",
     "output_type": "stream",
     "text": [
      "Transformation Pipeline and Model Successfully Loaded\n"
     ]
    }
   ],
   "source": [
    "new_pycaret = ClassificationExperiment()\n",
    "loaded_model = new_pycaret.load_model('pycaret_model')"
   ]
  },
  {
   "cell_type": "code",
   "execution_count": 23,
   "id": "2ec24afe-e43f-42de-a6cb-9b8a4ecd5225",
   "metadata": {},
   "outputs": [
    {
     "data": {
      "text/html": [
       "<div>\n",
       "<style scoped>\n",
       "    .dataframe tbody tr th:only-of-type {\n",
       "        vertical-align: middle;\n",
       "    }\n",
       "\n",
       "    .dataframe tbody tr th {\n",
       "        vertical-align: top;\n",
       "    }\n",
       "\n",
       "    .dataframe thead th {\n",
       "        text-align: right;\n",
       "    }\n",
       "</style>\n",
       "<table border=\"1\" class=\"dataframe\">\n",
       "  <thead>\n",
       "    <tr style=\"text-align: right;\">\n",
       "      <th></th>\n",
       "      <th>tenure</th>\n",
       "      <th>PhoneService</th>\n",
       "      <th>Contract</th>\n",
       "      <th>PaymentMethod</th>\n",
       "      <th>MonthlyCharges</th>\n",
       "      <th>TotalCharges</th>\n",
       "      <th>charge_per_tenure</th>\n",
       "      <th>Churn</th>\n",
       "      <th>prediction_label</th>\n",
       "      <th>prediction_score</th>\n",
       "    </tr>\n",
       "    <tr>\n",
       "      <th>customerID</th>\n",
       "      <th></th>\n",
       "      <th></th>\n",
       "      <th></th>\n",
       "      <th></th>\n",
       "      <th></th>\n",
       "      <th></th>\n",
       "      <th></th>\n",
       "      <th></th>\n",
       "      <th></th>\n",
       "      <th></th>\n",
       "    </tr>\n",
       "  </thead>\n",
       "  <tbody>\n",
       "    <tr>\n",
       "      <th>8361-LTMKD</th>\n",
       "      <td>4.0</td>\n",
       "      <td>1</td>\n",
       "      <td>0</td>\n",
       "      <td>2</td>\n",
       "      <td>74.400002</td>\n",
       "      <td>306.600006</td>\n",
       "      <td>76.650002</td>\n",
       "      <td>1</td>\n",
       "      <td>1</td>\n",
       "      <td>0.5707</td>\n",
       "    </tr>\n",
       "  </tbody>\n",
       "</table>\n",
       "</div>"
      ],
      "text/plain": [
       "            tenure  PhoneService  Contract  PaymentMethod  MonthlyCharges  \\\n",
       "customerID                                                                  \n",
       "8361-LTMKD     4.0             1         0              2       74.400002   \n",
       "\n",
       "            TotalCharges  charge_per_tenure  Churn  prediction_label  \\\n",
       "customerID                                                             \n",
       "8361-LTMKD    306.600006          76.650002      1                 1   \n",
       "\n",
       "            prediction_score  \n",
       "customerID                    \n",
       "8361-LTMKD            0.5707  "
      ]
     },
     "execution_count": 23,
     "metadata": {},
     "output_type": "execute_result"
    }
   ],
   "source": [
    "new_pycaret.predict_model(loaded_model, df.iloc[-2:-1])"
   ]
  },
  {
   "cell_type": "markdown",
   "id": "aa9d7487-19a6-4646-9fa9-62943fe5609b",
   "metadata": {},
   "source": [
    "Same prediction as before. "
   ]
  },
  {
   "cell_type": "code",
   "execution_count": 31,
   "id": "88de9e4a-f16b-4dea-bfda-2cea34cffb24",
   "metadata": {},
   "outputs": [],
   "source": [
    "from IPython.display import Code"
   ]
  },
  {
   "cell_type": "markdown",
   "id": "c49db562",
   "metadata": {},
   "source": [
    "# Summary"
   ]
  },
  {
   "cell_type": "markdown",
   "id": "9533a1cd",
   "metadata": {},
   "source": [
    "Write a short summary of the process and results here."
   ]
  },
  {
   "cell_type": "markdown",
   "id": "5c1d2fb9-bd8a-462a-b5dc-7fa8c90fc748",
   "metadata": {},
   "source": [
    "First, I installed Pycaret and imported the dataset. I imported the pycaret classification experiment setting the target to churn. Next, I used auto ml to compare and identify the best model, which showed me that the logistic regression model has the best accuracy. Also, I used a confusion matrix to evaluate the model. I think it shows it would be a good model to evaluate churn. In reviewing the confusion matrix, if the false negatives were greater than the true positives then I would re-evaluate the model. I think with looking at churn I'm not as concerned with the false positives I don't think it would cause any harm by using the efforts to mitigate churn such as offering discounts. I used Pycaret’s prediction function to look at which were misclassified however I did not notice any similarities between them. I saved the model, loaded it, and tested the model. In testing, it performed the same way as it did initially. "
   ]
  }
 ],
 "metadata": {
  "kernelspec": {
   "display_name": "py310",
   "language": "python",
   "name": "py310"
  },
  "language_info": {
   "codemirror_mode": {
    "name": "ipython",
    "version": 3
   },
   "file_extension": ".py",
   "mimetype": "text/x-python",
   "name": "python",
   "nbconvert_exporter": "python",
   "pygments_lexer": "ipython3",
   "version": "3.11.5"
  }
 },
 "nbformat": 4,
 "nbformat_minor": 5
}
